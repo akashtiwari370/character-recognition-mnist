{
 "cells": [
  {
   "cell_type": "code",
   "execution_count": 2,
   "id": "86b9d455",
   "metadata": {},
   "outputs": [],
   "source": [
    "import numpy as np\n",
    "import matplotlib.pyplot as plt\n",
    "from tensorflow import keras\n",
    "from tensorflow.keras.datasets import mnist"
   ]
  },
  {
   "cell_type": "code",
   "execution_count": 3,
   "id": "a0e17353",
   "metadata": {},
   "outputs": [
    {
     "name": "stdout",
     "output_type": "stream",
     "text": [
      "\u001b[1;31mSignature:\u001b[0m \u001b[0mmnist\u001b[0m\u001b[1;33m.\u001b[0m\u001b[0mload_data\u001b[0m\u001b[1;33m(\u001b[0m\u001b[0mpath\u001b[0m\u001b[1;33m=\u001b[0m\u001b[1;34m'mnist.npz'\u001b[0m\u001b[1;33m)\u001b[0m\u001b[1;33m\u001b[0m\u001b[1;33m\u001b[0m\u001b[0m\n",
      "\u001b[1;31mDocstring:\u001b[0m\n",
      "Loads the [MNIST dataset](http://yann.lecun.com/exdb/mnist/).\n",
      "\n",
      "This is a dataset of 60,000 28x28 grayscale images of the 10 digits,\n",
      "along with a test set of 10,000 images.\n",
      "More info can be found at the\n",
      "[MNIST homepage](http://yann.lecun.com/exdb/mnist/).\n",
      "\n",
      "\n",
      "Arguments:\n",
      "    path: path where to cache the dataset locally\n",
      "        (relative to `~/.keras/datasets`).\n",
      "\n",
      "Returns:\n",
      "    Tuple of Numpy arrays: `(x_train, y_train), (x_test, y_test)`.\n",
      "\n",
      "    **x_train, x_test**: uint8 arrays of grayscale image data with shapes\n",
      "      (num_samples, 28, 28).\n",
      "\n",
      "    **y_train, y_test**: uint8 arrays of digit labels (integers in range 0-9)\n",
      "      with shapes (num_samples,).\n",
      "\n",
      "License:\n",
      "    Yann LeCun and Corinna Cortes hold the copyright of MNIST dataset,\n",
      "    which is a derivative work from original NIST datasets.\n",
      "    MNIST dataset is made available under the terms of the\n",
      "    [Creative Commons Attribution-Share Alike 3.0 license.](\n",
      "    https://creativecommons.org/licenses/by-sa/3.0/)\n",
      "\u001b[1;31mFile:\u001b[0m      c:\\programdata\\anaconda3\\lib\\site-packages\\tensorflow\\python\\keras\\datasets\\mnist.py\n",
      "\u001b[1;31mType:\u001b[0m      function\n"
     ]
    }
   ],
   "source": [
    "mnist.load_data?"
   ]
  },
  {
   "cell_type": "code",
   "execution_count": 4,
   "id": "1ebecb32",
   "metadata": {},
   "outputs": [],
   "source": [
    "(X_train, y_train), (X_test, y_test) = mnist.load_data()"
   ]
  },
  {
   "cell_type": "code",
   "execution_count": 5,
   "id": "07ab3eaa",
   "metadata": {},
   "outputs": [],
   "source": [
    "def images(i):\n",
    "    plt.imshow(X_train[i], cmap=\"binary\")\n",
    "    plt.title(y_train[i])\n",
    "    plt.show()"
   ]
  },
  {
   "cell_type": "code",
   "execution_count": 6,
   "id": "0ea95479",
   "metadata": {},
   "outputs": [
    {
     "data": {
      "image/png": "[encoded data removed]",
      "text/plain": [
       "<Figure size 432x288 with 1 Axes>"
      ]
     },
     "metadata": {
      "needs_background": "light"
     },
     "output_type": "display_data"
    },
    {
     "data": {
      "image/png": "[encoded data removed]",
      "text/plain": [
       "<Figure size 432x288 with 1 Axes>"
      ]
     },
     "metadata": {
      "needs_background": "light"
     },
     "output_type": "display_data"
    },
    {
     "data": {
      "image/png": "[encoded data removed]",
      "text/plain": [
       "<Figure size 432x288 with 1 Axes>"
      ]
     },
     "metadata": {
      "needs_background": "light"
     },
     "output_type": "display_data"
    },
    {
     "data": {
      "image/png": "[encoded data removed]",
      "text/plain": [
       "<Figure size 432x288 with 1 Axes>"
      ]
     },
     "metadata": {
      "needs_background": "light"
     },
     "output_type": "display_data"
    },
    {
     "data": {
      "image/png": "[encoded data removed]",
      "text/plain": [
       "<Figure size 432x288 with 1 Axes>"
      ]
     },
     "metadata": {
      "needs_background": "light"
     },
     "output_type": "display_data"
    }
   ],
   "source": [
    "for i in range(5):\n",
    "    images(i)"
   ]
  },
  {
   "cell_type": "code",
   "execution_count": 7,
   "id": "221cccdc",
   "metadata": {},
   "outputs": [],
   "source": [
    "# Normalizing\n",
    "X_train = X_train.astype(np.float32)/255\n",
    "X_test = X_test.astype(np.float32)/255\n",
    "\n",
    "X_train = np.expand_dims(X_train, -1)\n",
    "X_test = np.expand_dims(X_test, -1)"
   ]
  },
  {
   "cell_type": "code",
   "execution_count": 8,
   "id": "67126ae0",
   "metadata": {},
   "outputs": [],
   "source": [
    "# converting to one hot vectors\n",
    "y_train = keras.utils.to_categorical(y_train)\n",
    "y_test = keras.utils.to_categorical(y_test)"
   ]
  },
  {
   "cell_type": "code",
   "execution_count": 9,
   "id": "6d814889",
   "metadata": {},
   "outputs": [],
   "source": [
    "from tensorflow.keras.models import Sequential\n",
    "from tensorflow.keras.layers import Dense, Conv2D, MaxPool2D, Flatten, Dropout"
   ]
  },
  {
   "cell_type": "code",
   "execution_count": 10,
   "id": "8a9832fe",
   "metadata": {},
   "outputs": [],
   "source": [
    "model = Sequential()"
   ]
  },
  {
   "cell_type": "code",
   "execution_count": 11,
   "id": "0e4e6049",
   "metadata": {},
   "outputs": [],
   "source": [
    "model.add(Conv2D(32, (3,3), input_shape = (28,28,1), activation='relu'))\n",
    "model.add(MaxPool2D((2,2)))\n",
    "\n",
    "model.add(Conv2D(64, (3,3), activation='relu'))\n",
    "model.add(MaxPool2D((2,2)))\n",
    "\n",
    "model.add(Flatten())\n",
    "\n",
    "model.add(Dropout(0.25))\n",
    "\n",
    "model.add(Dense(10, activation='softmax'))"
   ]
  },
  {
   "cell_type": "code",
   "execution_count": 12,
   "id": "13c6afcd",
   "metadata": {},
   "outputs": [
    {
     "name": "stdout",
     "output_type": "stream",
     "text": [
      "Model: \"sequential\"\n",
      "_________________________________________________________________\n",
      "Layer (type)                 Output Shape              Param #   \n",
      "=================================================================\n",
      "conv2d (Conv2D)              (None, 26, 26, 32)        320       \n",
      "_________________________________________________________________\n",
      "max_pooling2d (MaxPooling2D) (None, 13, 13, 32)        0         \n",
      "_________________________________________________________________\n",
      "conv2d_1 (Conv2D)            (None, 11, 11, 64)        18496     \n",
      "_________________________________________________________________\n",
      "max_pooling2d_1 (MaxPooling2 (None, 5, 5, 64)          0         \n",
      "_________________________________________________________________\n",
      "flatten (Flatten)            (None, 1600)              0         \n",
      "_________________________________________________________________\n",
      "dropout (Dropout)            (None, 1600)              0         \n",
      "_________________________________________________________________\n",
      "dense (Dense)                (None, 10)                16010     \n",
      "=================================================================\n",
      "Total params: 34,826\n",
      "Trainable params: 34,826\n",
      "Non-trainable params: 0\n",
      "_________________________________________________________________\n"
     ]
    }
   ],
   "source": [
    "model.summary()"
   ]
  },
  {
   "cell_type": "code",
   "execution_count": 13,
   "id": "57c42348",
   "metadata": {},
   "outputs": [],
   "source": [
    "model.compile(optimizer= 'adam', loss = keras.losses.categorical_crossentropy, metrics = ['accuracy'])"
   ]
  },
  {
   "cell_type": "code",
   "execution_count": 14,
   "id": "db419e99",
   "metadata": {},
   "outputs": [],
   "source": [
    "from tensorflow.keras.callbacks import EarlyStopping, ModelCheckpoint\n",
    "\n",
    "es =EarlyStopping(monitor='val_acc',min_delta=0.01,patience=4,verbose=1)\n",
    "\n",
    "mc =ModelCheckpoint(\"./bestmodel.h5\", monitor=\"val_acc\", verbose = 1, save_best_only=True)\n",
    "\n",
    "cb = [es,mc]"
   ]
  },
  {
   "cell_type": "code",
   "execution_count": 15,
   "id": "b2fec67a",
   "metadata": {},
   "outputs": [
    {
     "name": "stdout",
     "output_type": "stream",
     "text": [
      "Epoch 1/50\n",
      "1311/1313 [============================>.] - ETA: 0s - loss: 0.2191 - accuracy: 0.9327WARNING:tensorflow:Early stopping conditioned on metric `val_acc` which is not available. Available metrics are: loss,accuracy,val_loss,val_accuracy\n",
      "WARNING:tensorflow:Can save best model only with val_acc available, skipping.\n",
      "1313/1313 [==============================] - 31s 24ms/step - loss: 0.2189 - accuracy: 0.9328 - val_loss: 0.0848 - val_accuracy: 0.9742\n",
      "Epoch 2/50\n",
      "1313/1313 [==============================] - ETA: 0s - loss: 0.0716 - accuracy: 0.9781WARNING:tensorflow:Early stopping conditioned on metric `val_acc` which is not available. Available metrics are: loss,accuracy,val_loss,val_accuracy\n",
      "WARNING:tensorflow:Can save best model only with val_acc available, skipping.\n",
      "1313/1313 [==============================] - 30s 23ms/step - loss: 0.0716 - accuracy: 0.9781 - val_loss: 0.0562 - val_accuracy: 0.9824\n",
      "Epoch 3/50\n",
      "1311/1313 [============================>.] - ETA: 0s - loss: 0.0564 - accuracy: 0.9825WARNING:tensorflow:Early stopping conditioned on metric `val_acc` which is not available. Available metrics are: loss,accuracy,val_loss,val_accuracy\n",
      "WARNING:tensorflow:Can save best model only with val_acc available, skipping.\n",
      "1313/1313 [==============================] - 32s 24ms/step - loss: 0.0565 - accuracy: 0.9824 - val_loss: 0.0551 - val_accuracy: 0.9828\n",
      "Epoch 4/50\n",
      "1312/1313 [============================>.] - ETA: 0s - loss: 0.0449 - accuracy: 0.9863WARNING:tensorflow:Early stopping conditioned on metric `val_acc` which is not available. Available metrics are: loss,accuracy,val_loss,val_accuracy\n",
      "WARNING:tensorflow:Can save best model only with val_acc available, skipping.\n",
      "1313/1313 [==============================] - 33s 25ms/step - loss: 0.0449 - accuracy: 0.9863 - val_loss: 0.0463 - val_accuracy: 0.9864\n",
      "Epoch 5/50\n",
      "1312/1313 [============================>.] - ETA: 0s - loss: 0.0385 - accuracy: 0.9882WARNING:tensorflow:Early stopping conditioned on metric `val_acc` which is not available. Available metrics are: loss,accuracy,val_loss,val_accuracy\n",
      "WARNING:tensorflow:Can save best model only with val_acc available, skipping.\n",
      "1313/1313 [==============================] - 32s 25ms/step - loss: 0.0386 - accuracy: 0.9881 - val_loss: 0.0430 - val_accuracy: 0.9874\n",
      "Epoch 6/50\n",
      "1313/1313 [==============================] - ETA: 0s - loss: 0.0330 - accuracy: 0.9893WARNING:tensorflow:Early stopping conditioned on metric `val_acc` which is not available. Available metrics are: loss,accuracy,val_loss,val_accuracy\n",
      "WARNING:tensorflow:Can save best model only with val_acc available, skipping.\n",
      "1313/1313 [==============================] - 32s 24ms/step - loss: 0.0330 - accuracy: 0.9893 - val_loss: 0.0459 - val_accuracy: 0.9861\n",
      "Epoch 7/50\n",
      "1313/1313 [==============================] - ETA: 0s - loss: 0.0292 - accuracy: 0.9905WARNING:tensorflow:Early stopping conditioned on metric `val_acc` which is not available. Available metrics are: loss,accuracy,val_loss,val_accuracy\n",
      "WARNING:tensorflow:Can save best model only with val_acc available, skipping.\n",
      "1313/1313 [==============================] - 32s 24ms/step - loss: 0.0292 - accuracy: 0.9905 - val_loss: 0.0380 - val_accuracy: 0.9889\n",
      "Epoch 8/50\n",
      "1313/1313 [==============================] - ETA: 0s - loss: 0.0264 - accuracy: 0.9912WARNING:tensorflow:Early stopping conditioned on metric `val_acc` which is not available. Available metrics are: loss,accuracy,val_loss,val_accuracy\n",
      "WARNING:tensorflow:Can save best model only with val_acc available, skipping.\n",
      "1313/1313 [==============================] - 34s 26ms/step - loss: 0.0264 - accuracy: 0.9912 - val_loss: 0.0357 - val_accuracy: 0.9898\n",
      "Epoch 9/50\n",
      "1313/1313 [==============================] - ETA: 0s - loss: 0.0234 - accuracy: 0.9920WARNING:tensorflow:Early stopping conditioned on metric `val_acc` which is not available. Available metrics are: loss,accuracy,val_loss,val_accuracy\n",
      "WARNING:tensorflow:Can save best model only with val_acc available, skipping.\n",
      "1313/1313 [==============================] - 32s 24ms/step - loss: 0.0234 - accuracy: 0.9920 - val_loss: 0.0423 - val_accuracy: 0.9881\n",
      "Epoch 10/50\n",
      "1311/1313 [============================>.] - ETA: 0s - loss: 0.0211 - accuracy: 0.9930WARNING:tensorflow:Early stopping conditioned on metric `val_acc` which is not available. Available metrics are: loss,accuracy,val_loss,val_accuracy\n",
      "WARNING:tensorflow:Can save best model only with val_acc available, skipping.\n",
      "1313/1313 [==============================] - 32s 24ms/step - loss: 0.0211 - accuracy: 0.9930 - val_loss: 0.0404 - val_accuracy: 0.9886\n",
      "Epoch 11/50\n",
      "1311/1313 [============================>.] - ETA: 0s - loss: 0.0178 - accuracy: 0.9941WARNING:tensorflow:Early stopping conditioned on metric `val_acc` which is not available. Available metrics are: loss,accuracy,val_loss,val_accuracy\n",
      "WARNING:tensorflow:Can save best model only with val_acc available, skipping.\n",
      "1313/1313 [==============================] - 32s 24ms/step - loss: 0.0178 - accuracy: 0.9941 - val_loss: 0.0425 - val_accuracy: 0.9888\n",
      "Epoch 12/50\n",
      "1313/1313 [==============================] - ETA: 0s - loss: 0.0178 - accuracy: 0.9937WARNING:tensorflow:Early stopping conditioned on metric `val_acc` which is not available. Available metrics are: loss,accuracy,val_loss,val_accuracy\n",
      "WARNING:tensorflow:Can save best model only with val_acc available, skipping.\n",
      "1313/1313 [==============================] - 32s 24ms/step - loss: 0.0178 - accuracy: 0.9937 - val_loss: 0.0433 - val_accuracy: 0.9886\n",
      "Epoch 13/50\n",
      "1313/1313 [==============================] - ETA: 0s - loss: 0.0155 - accuracy: 0.9948WARNING:tensorflow:Early stopping conditioned on metric `val_acc` which is not available. Available metrics are: loss,accuracy,val_loss,val_accuracy\n",
      "WARNING:tensorflow:Can save best model only with val_acc available, skipping.\n",
      "1313/1313 [==============================] - 32s 24ms/step - loss: 0.0155 - accuracy: 0.9948 - val_loss: 0.0391 - val_accuracy: 0.9901\n",
      "Epoch 14/50\n",
      "1312/1313 [============================>.] - ETA: 0s - loss: 0.0148 - accuracy: 0.9951WARNING:tensorflow:Early stopping conditioned on metric `val_acc` which is not available. Available metrics are: loss,accuracy,val_loss,val_accuracy\n",
      "WARNING:tensorflow:Can save best model only with val_acc available, skipping.\n",
      "1313/1313 [==============================] - 34s 26ms/step - loss: 0.0148 - accuracy: 0.9951 - val_loss: 0.0426 - val_accuracy: 0.9885\n",
      "Epoch 15/50\n",
      "1311/1313 [============================>.] - ETA: 0s - loss: 0.0133 - accuracy: 0.9956WARNING:tensorflow:Early stopping conditioned on metric `val_acc` which is not available. Available metrics are: loss,accuracy,val_loss,val_accuracy\n",
      "WARNING:tensorflow:Can save best model only with val_acc available, skipping.\n",
      "1313/1313 [==============================] - 32s 25ms/step - loss: 0.0134 - accuracy: 0.9956 - val_loss: 0.0406 - val_accuracy: 0.9897\n",
      "Epoch 16/50\n",
      "1311/1313 [============================>.] - ETA: 0s - loss: 0.0140 - accuracy: 0.9952WARNING:tensorflow:Early stopping conditioned on metric `val_acc` which is not available. Available metrics are: loss,accuracy,val_loss,val_accuracy\n",
      "WARNING:tensorflow:Can save best model only with val_acc available, skipping.\n",
      "1313/1313 [==============================] - 32s 24ms/step - loss: 0.0140 - accuracy: 0.9952 - val_loss: 0.0435 - val_accuracy: 0.9896\n",
      "Epoch 17/50\n",
      "1313/1313 [==============================] - ETA: 0s - loss: 0.0114 - accuracy: 0.9959WARNING:tensorflow:Early stopping conditioned on metric `val_acc` which is not available. Available metrics are: loss,accuracy,val_loss,val_accuracy\n",
      "WARNING:tensorflow:Can save best model only with val_acc available, skipping.\n",
      "1313/1313 [==============================] - 32s 24ms/step - loss: 0.0114 - accuracy: 0.9959 - val_loss: 0.0413 - val_accuracy: 0.9902\n",
      "Epoch 18/50\n",
      "1311/1313 [============================>.] - ETA: 0s - loss: 0.0104 - accuracy: 0.9968WARNING:tensorflow:Early stopping conditioned on metric `val_acc` which is not available. Available metrics are: loss,accuracy,val_loss,val_accuracy\n",
      "WARNING:tensorflow:Can save best model only with val_acc available, skipping.\n",
      "1313/1313 [==============================] - 32s 25ms/step - loss: 0.0104 - accuracy: 0.9968 - val_loss: 0.0439 - val_accuracy: 0.9903\n"
     ]
    },
    {
     "name": "stdout",
     "output_type": "stream",
     "text": [
      "Epoch 19/50\n",
      "1312/1313 [============================>.] - ETA: 0s - loss: 0.0106 - accuracy: 0.9960WARNING:tensorflow:Early stopping conditioned on metric `val_acc` which is not available. Available metrics are: loss,accuracy,val_loss,val_accuracy\n",
      "WARNING:tensorflow:Can save best model only with val_acc available, skipping.\n",
      "1313/1313 [==============================] - 31s 23ms/step - loss: 0.0106 - accuracy: 0.9960 - val_loss: 0.0535 - val_accuracy: 0.9881\n",
      "Epoch 20/50\n",
      "1311/1313 [============================>.] - ETA: 0s - loss: 0.0091 - accuracy: 0.9971WARNING:tensorflow:Early stopping conditioned on metric `val_acc` which is not available. Available metrics are: loss,accuracy,val_loss,val_accuracy\n",
      "WARNING:tensorflow:Can save best model only with val_acc available, skipping.\n",
      "1313/1313 [==============================] - 31s 23ms/step - loss: 0.0092 - accuracy: 0.9971 - val_loss: 0.0475 - val_accuracy: 0.9897\n",
      "Epoch 21/50\n",
      "1312/1313 [============================>.] - ETA: 0s - loss: 0.0097 - accuracy: 0.9966WARNING:tensorflow:Early stopping conditioned on metric `val_acc` which is not available. Available metrics are: loss,accuracy,val_loss,val_accuracy\n",
      "WARNING:tensorflow:Can save best model only with val_acc available, skipping.\n",
      "1313/1313 [==============================] - 31s 23ms/step - loss: 0.0096 - accuracy: 0.9966 - val_loss: 0.0455 - val_accuracy: 0.9903\n",
      "Epoch 22/50\n",
      "1311/1313 [============================>.] - ETA: 0s - loss: 0.0099 - accuracy: 0.9964WARNING:tensorflow:Early stopping conditioned on metric `val_acc` which is not available. Available metrics are: loss,accuracy,val_loss,val_accuracy\n",
      "WARNING:tensorflow:Can save best model only with val_acc available, skipping.\n",
      "1313/1313 [==============================] - 31s 24ms/step - loss: 0.0099 - accuracy: 0.9965 - val_loss: 0.0476 - val_accuracy: 0.9898\n",
      "Epoch 23/50\n",
      "1312/1313 [============================>.] - ETA: 0s - loss: 0.0085 - accuracy: 0.9968WARNING:tensorflow:Early stopping conditioned on metric `val_acc` which is not available. Available metrics are: loss,accuracy,val_loss,val_accuracy\n",
      "WARNING:tensorflow:Can save best model only with val_acc available, skipping.\n",
      "1313/1313 [==============================] - 33s 25ms/step - loss: 0.0085 - accuracy: 0.9968 - val_loss: 0.0455 - val_accuracy: 0.9908\n",
      "Epoch 24/50\n",
      "1311/1313 [============================>.] - ETA: 0s - loss: 0.0113 - accuracy: 0.9960WARNING:tensorflow:Early stopping conditioned on metric `val_acc` which is not available. Available metrics are: loss,accuracy,val_loss,val_accuracy\n",
      "WARNING:tensorflow:Can save best model only with val_acc available, skipping.\n",
      "1313/1313 [==============================] - 32s 25ms/step - loss: 0.0113 - accuracy: 0.9960 - val_loss: 0.0461 - val_accuracy: 0.9900\n",
      "Epoch 25/50\n",
      "1311/1313 [============================>.] - ETA: 0s - loss: 0.0079 - accuracy: 0.9973WARNING:tensorflow:Early stopping conditioned on metric `val_acc` which is not available. Available metrics are: loss,accuracy,val_loss,val_accuracy\n",
      "WARNING:tensorflow:Can save best model only with val_acc available, skipping.\n",
      "1313/1313 [==============================] - 32s 24ms/step - loss: 0.0079 - accuracy: 0.9973 - val_loss: 0.0469 - val_accuracy: 0.9908\n",
      "Epoch 26/50\n",
      "1311/1313 [============================>.] - ETA: 0s - loss: 0.0077 - accuracy: 0.9969WARNING:tensorflow:Early stopping conditioned on metric `val_acc` which is not available. Available metrics are: loss,accuracy,val_loss,val_accuracy\n",
      "WARNING:tensorflow:Can save best model only with val_acc available, skipping.\n",
      "1313/1313 [==============================] - 32s 25ms/step - loss: 0.0077 - accuracy: 0.9970 - val_loss: 0.0501 - val_accuracy: 0.9905\n",
      "Epoch 27/50\n",
      "1313/1313 [==============================] - ETA: 0s - loss: 0.0083 - accuracy: 0.9971WARNING:tensorflow:Early stopping conditioned on metric `val_acc` which is not available. Available metrics are: loss,accuracy,val_loss,val_accuracy\n",
      "WARNING:tensorflow:Can save best model only with val_acc available, skipping.\n",
      "1313/1313 [==============================] - 44s 33ms/step - loss: 0.0083 - accuracy: 0.9971 - val_loss: 0.0452 - val_accuracy: 0.9908\n",
      "Epoch 28/50\n",
      "1312/1313 [============================>.] - ETA: 0s - loss: 0.0076 - accuracy: 0.9973 ETA: 0s - loss: 0WARNING:tensorflow:Early stopping conditioned on metric `val_acc` which is not available. Available metrics are: loss,accuracy,val_loss,val_accuracy\n",
      "WARNING:tensorflow:Can save best model only with val_acc available, skipping.\n",
      "1313/1313 [==============================] - 43s 33ms/step - loss: 0.0076 - accuracy: 0.9973 - val_loss: 0.0455 - val_accuracy: 0.9905\n",
      "Epoch 29/50\n",
      "1313/1313 [==============================] - ETA: 0s - loss: 0.0066 - accuracy: 0.9976WARNING:tensorflow:Early stopping conditioned on metric `val_acc` which is not available. Available metrics are: loss,accuracy,val_loss,val_accuracy\n",
      "WARNING:tensorflow:Can save best model only with val_acc available, skipping.\n",
      "1313/1313 [==============================] - 39s 30ms/step - loss: 0.0066 - accuracy: 0.9976 - val_loss: 0.0528 - val_accuracy: 0.9901\n",
      "Epoch 30/50\n",
      "1311/1313 [============================>.] - ETA: 0s - loss: 0.0070 - accuracy: 0.9974WARNING:tensorflow:Early stopping conditioned on metric `val_acc` which is not available. Available metrics are: loss,accuracy,val_loss,val_accuracy\n",
      "WARNING:tensorflow:Can save best model only with val_acc available, skipping.\n",
      "1313/1313 [==============================] - 35s 27ms/step - loss: 0.0070 - accuracy: 0.9975 - val_loss: 0.0477 - val_accuracy: 0.9912\n",
      "Epoch 31/50\n",
      "1313/1313 [==============================] - ETA: 0s - loss: 0.0076 - accuracy: 0.9974WARNING:tensorflow:Early stopping conditioned on metric `val_acc` which is not available. Available metrics are: loss,accuracy,val_loss,val_accuracy\n",
      "WARNING:tensorflow:Can save best model only with val_acc available, skipping.\n",
      "1313/1313 [==============================] - 35s 26ms/step - loss: 0.0076 - accuracy: 0.9974 - val_loss: 0.0460 - val_accuracy: 0.9909\n",
      "Epoch 32/50\n",
      "1311/1313 [============================>.] - ETA: 0s - loss: 0.0053 - accuracy: 0.9981WARNING:tensorflow:Early stopping conditioned on metric `val_acc` which is not available. Available metrics are: loss,accuracy,val_loss,val_accuracy\n",
      "WARNING:tensorflow:Can save best model only with val_acc available, skipping.\n",
      "1313/1313 [==============================] - 36s 27ms/step - loss: 0.0053 - accuracy: 0.9981 - val_loss: 0.0562 - val_accuracy: 0.9897\n",
      "Epoch 33/50\n",
      "1312/1313 [============================>.] - ETA: 0s - loss: 0.0066 - accuracy: 0.9978WARNING:tensorflow:Early stopping conditioned on metric `val_acc` which is not available. Available metrics are: loss,accuracy,val_loss,val_accuracy\n",
      "WARNING:tensorflow:Can save best model only with val_acc available, skipping.\n",
      "1313/1313 [==============================] - 35s 26ms/step - loss: 0.0066 - accuracy: 0.9978 - val_loss: 0.0545 - val_accuracy: 0.9904\n",
      "Epoch 34/50\n",
      "1312/1313 [============================>.] - ETA: 0s - loss: 0.0077 - accuracy: 0.9976WARNING:tensorflow:Early stopping conditioned on metric `val_acc` which is not available. Available metrics are: loss,accuracy,val_loss,val_accuracy\n",
      "WARNING:tensorflow:Can save best model only with val_acc available, skipping.\n",
      "1313/1313 [==============================] - 34s 26ms/step - loss: 0.0077 - accuracy: 0.9976 - val_loss: 0.0512 - val_accuracy: 0.9909\n",
      "Epoch 35/50\n",
      "1313/1313 [==============================] - ETA: 0s - loss: 0.0049 - accuracy: 0.9983WARNING:tensorflow:Early stopping conditioned on metric `val_acc` which is not available. Available metrics are: loss,accuracy,val_loss,val_accuracy\n",
      "WARNING:tensorflow:Can save best model only with val_acc available, skipping.\n",
      "1313/1313 [==============================] - 34s 26ms/step - loss: 0.0049 - accuracy: 0.9983 - val_loss: 0.0521 - val_accuracy: 0.9910\n",
      "Epoch 36/50\n",
      "1313/1313 [==============================] - ETA: 0s - loss: 0.0066 - accuracy: 0.9981WARNING:tensorflow:Early stopping conditioned on metric `val_acc` which is not available. Available metrics are: loss,accuracy,val_loss,val_accuracy\n",
      "WARNING:tensorflow:Can save best model only with val_acc available, skipping.\n",
      "1313/1313 [==============================] - 34s 26ms/step - loss: 0.0066 - accuracy: 0.9981 - val_loss: 0.0558 - val_accuracy: 0.9901\n"
     ]
    },
    {
     "name": "stdout",
     "output_type": "stream",
     "text": [
      "Epoch 37/50\n",
      "1311/1313 [============================>.] - ETA: 0s - loss: 0.0056 - accuracy: 0.9979WARNING:tensorflow:Early stopping conditioned on metric `val_acc` which is not available. Available metrics are: loss,accuracy,val_loss,val_accuracy\n",
      "WARNING:tensorflow:Can save best model only with val_acc available, skipping.\n",
      "1313/1313 [==============================] - 33s 25ms/step - loss: 0.0056 - accuracy: 0.9979 - val_loss: 0.0623 - val_accuracy: 0.9902\n",
      "Epoch 38/50\n",
      "1312/1313 [============================>.] - ETA: 0s - loss: 0.0065 - accuracy: 0.9976WARNING:tensorflow:Early stopping conditioned on metric `val_acc` which is not available. Available metrics are: loss,accuracy,val_loss,val_accuracy\n",
      "WARNING:tensorflow:Can save best model only with val_acc available, skipping.\n",
      "1313/1313 [==============================] - 34s 26ms/step - loss: 0.0065 - accuracy: 0.9976 - val_loss: 0.0507 - val_accuracy: 0.9911\n",
      "Epoch 39/50\n",
      "1313/1313 [==============================] - ETA: 0s - loss: 0.0064 - accuracy: 0.9978WARNING:tensorflow:Early stopping conditioned on metric `val_acc` which is not available. Available metrics are: loss,accuracy,val_loss,val_accuracy\n",
      "WARNING:tensorflow:Can save best model only with val_acc available, skipping.\n",
      "1313/1313 [==============================] - 33s 25ms/step - loss: 0.0064 - accuracy: 0.9978 - val_loss: 0.0562 - val_accuracy: 0.9908\n",
      "Epoch 40/50\n",
      "1313/1313 [==============================] - ETA: 0s - loss: 0.0063 - accuracy: 0.9977WARNING:tensorflow:Early stopping conditioned on metric `val_acc` which is not available. Available metrics are: loss,accuracy,val_loss,val_accuracy\n",
      "WARNING:tensorflow:Can save best model only with val_acc available, skipping.\n",
      "1313/1313 [==============================] - 34s 26ms/step - loss: 0.0063 - accuracy: 0.9977 - val_loss: 0.0570 - val_accuracy: 0.9902\n",
      "Epoch 41/50\n",
      "1311/1313 [============================>.] - ETA: 0s - loss: 0.0054 - accuracy: 0.9981WARNING:tensorflow:Early stopping conditioned on metric `val_acc` which is not available. Available metrics are: loss,accuracy,val_loss,val_accuracy\n",
      "WARNING:tensorflow:Can save best model only with val_acc available, skipping.\n",
      "1313/1313 [==============================] - 34s 26ms/step - loss: 0.0054 - accuracy: 0.9981 - val_loss: 0.0618 - val_accuracy: 0.9898\n",
      "Epoch 42/50\n",
      "1311/1313 [============================>.] - ETA: 0s - loss: 0.0057 - accuracy: 0.9983WARNING:tensorflow:Early stopping conditioned on metric `val_acc` which is not available. Available metrics are: loss,accuracy,val_loss,val_accuracy\n",
      "WARNING:tensorflow:Can save best model only with val_acc available, skipping.\n",
      "1313/1313 [==============================] - 34s 26ms/step - loss: 0.0057 - accuracy: 0.9983 - val_loss: 0.0553 - val_accuracy: 0.9904\n",
      "Epoch 43/50\n",
      "1312/1313 [============================>.] - ETA: 0s - loss: 0.0055 - accuracy: 0.9981WARNING:tensorflow:Early stopping conditioned on metric `val_acc` which is not available. Available metrics are: loss,accuracy,val_loss,val_accuracy\n",
      "WARNING:tensorflow:Can save best model only with val_acc available, skipping.\n",
      "1313/1313 [==============================] - 34s 26ms/step - loss: 0.0055 - accuracy: 0.9981 - val_loss: 0.0594 - val_accuracy: 0.9909\n",
      "Epoch 44/50\n",
      "1312/1313 [============================>.] - ETA: 0s - loss: 0.0047 - accuracy: 0.9985 ETA: WARNING:tensorflow:Early stopping conditioned on metric `val_acc` which is not available. Available metrics are: loss,accuracy,val_loss,val_accuracy\n",
      "WARNING:tensorflow:Can save best model only with val_acc available, skipping.\n",
      "1313/1313 [==============================] - 36s 28ms/step - loss: 0.0047 - accuracy: 0.9985 - val_loss: 0.0564 - val_accuracy: 0.9903\n",
      "Epoch 45/50\n",
      "1311/1313 [============================>.] - ETA: 0s - loss: 0.0051 - accuracy: 0.9983WARNING:tensorflow:Early stopping conditioned on metric `val_acc` which is not available. Available metrics are: loss,accuracy,val_loss,val_accuracy\n",
      "WARNING:tensorflow:Can save best model only with val_acc available, skipping.\n",
      "1313/1313 [==============================] - 34s 26ms/step - loss: 0.0051 - accuracy: 0.9983 - val_loss: 0.0611 - val_accuracy: 0.9898\n",
      "Epoch 46/50\n",
      "1312/1313 [============================>.] - ETA: 0s - loss: 0.0055 - accuracy: 0.9980WARNING:tensorflow:Early stopping conditioned on metric `val_acc` which is not available. Available metrics are: loss,accuracy,val_loss,val_accuracy\n",
      "WARNING:tensorflow:Can save best model only with val_acc available, skipping.\n",
      "1313/1313 [==============================] - 34s 26ms/step - loss: 0.0055 - accuracy: 0.9980 - val_loss: 0.0581 - val_accuracy: 0.9909\n",
      "Epoch 47/50\n",
      "1311/1313 [============================>.] - ETA: 0s - loss: 0.0060 - accuracy: 0.9980 ETA: 0s - loss: 0.0060 - accuracyWARNING:tensorflow:Early stopping conditioned on metric `val_acc` which is not available. Available metrics are: loss,accuracy,val_loss,val_accuracy\n",
      "WARNING:tensorflow:Can save best model only with val_acc available, skipping.\n",
      "1313/1313 [==============================] - 34s 26ms/step - loss: 0.0060 - accuracy: 0.9980 - val_loss: 0.0573 - val_accuracy: 0.9903\n",
      "Epoch 48/50\n",
      "1311/1313 [============================>.] - ETA: 0s - loss: 0.0043 - accuracy: 0.9988WARNING:tensorflow:Early stopping conditioned on metric `val_acc` which is not available. Available metrics are: loss,accuracy,val_loss,val_accuracy\n",
      "WARNING:tensorflow:Can save best model only with val_acc available, skipping.\n",
      "1313/1313 [==============================] - 35s 27ms/step - loss: 0.0043 - accuracy: 0.9988 - val_loss: 0.0564 - val_accuracy: 0.9912\n",
      "Epoch 49/50\n",
      "1313/1313 [==============================] - ETA: 0s - loss: 0.0055 - accuracy: 0.9981WARNING:tensorflow:Early stopping conditioned on metric `val_acc` which is not available. Available metrics are: loss,accuracy,val_loss,val_accuracy\n",
      "WARNING:tensorflow:Can save best model only with val_acc available, skipping.\n",
      "1313/1313 [==============================] - 35s 27ms/step - loss: 0.0055 - accuracy: 0.9981 - val_loss: 0.0565 - val_accuracy: 0.9904\n",
      "Epoch 50/50\n",
      "1311/1313 [============================>.] - ETA: 0s - loss: 0.0050 - accuracy: 0.9984WARNING:tensorflow:Early stopping conditioned on metric `val_acc` which is not available. Available metrics are: loss,accuracy,val_loss,val_accuracy\n",
      "WARNING:tensorflow:Can save best model only with val_acc available, skipping.\n",
      "1313/1313 [==============================] - 35s 26ms/step - loss: 0.0050 - accuracy: 0.9984 - val_loss: 0.0689 - val_accuracy: 0.9896\n"
     ]
    }
   ],
   "source": [
    "his = model.fit(X_train,y_train, epochs=50, validation_split=0.3, callbacks=cb)"
   ]
  },
  {
   "cell_type": "code",
   "execution_count": 16,
   "id": "addec34a",
   "metadata": {},
   "outputs": [],
   "source": [
    "model.save('bestmodel.h5')"
   ]
  },
  {
   "cell_type": "code",
   "execution_count": 5,
   "id": "f0a7e4a9",
   "metadata": {},
   "outputs": [],
   "source": [
    "net = keras.models.load_model('bestmodel.h5')"
   ]
  },
  {
   "cell_type": "code",
   "execution_count": 8,
   "id": "26e9abed",
   "metadata": {},
   "outputs": [],
   "source": [
    "prediction = net.predict([X_test])"
   ]
  },
  {
   "cell_type": "code",
   "execution_count": 9,
   "id": "2eb7ef13",
   "metadata": {},
   "outputs": [
    {
     "name": "stdout",
     "output_type": "stream",
     "text": [
      "[[5.13982239e-18 7.04425904e-23 1.07184075e-12 ... 1.00000000e+00\n",
      "  4.92513766e-16 1.78344709e-12]\n",
      " [5.39035559e-13 1.17034678e-13 1.00000000e+00 ... 3.72536841e-24\n",
      "  6.83900500e-14 7.07841183e-24]\n",
      " [1.72022161e-16 9.99999881e-01 1.15844712e-13 ... 4.93125263e-10\n",
      "  2.55077574e-11 1.68879184e-15]\n",
      " ...\n",
      " [1.81459924e-35 8.52344782e-25 1.07085515e-32 ... 6.93787290e-25\n",
      "  1.11687821e-17 1.65335637e-23]\n",
      " [7.22461750e-13 2.15127849e-29 1.87179623e-21 ... 1.35279043e-27\n",
      "  1.95796997e-06 7.28545161e-16]\n",
      " [1.32974591e-16 7.82721888e-27 1.18839887e-16 ... 7.05050212e-29\n",
      "  2.95425143e-13 6.88918304e-19]]\n"
     ]
    }
   ],
   "source": [
    "print(prediction)"
   ]
  },
  {
   "cell_type": "code",
   "execution_count": 13,
   "id": "55e04429",
   "metadata": {},
   "outputs": [
    {
     "name": "stdout",
     "output_type": "stream",
     "text": [
      "2\n"
     ]
    }
   ],
   "source": [
    "print(np.argmax(prediction[1]))"
   ]
  },
  {
   "cell_type": "code",
   "execution_count": 14,
   "id": "b82809f6",
   "metadata": {},
   "outputs": [
    {
     "data": {
      "text/plain": [
       "<matplotlib.image.AxesImage at 0x2024fc48c10>"
      ]
     },
     "execution_count": 14,
     "metadata": {},
     "output_type": "execute_result"
    },
    {
     "data": {
      "image/png": "[encoded data removed]",
      "text/plain": [
       "<Figure size 432x288 with 1 Axes>"
      ]
     },
     "metadata": {
      "needs_background": "light"
     },
     "output_type": "display_data"
    }
   ],
   "source": [
    "plt.imshow(X_test[1])"
   ]
  },
  {
   "cell_type": "code",
   "execution_count": null,
   "id": "57bdea61",
   "metadata": {},
   "outputs": [],
   "source": []
  }
 ],
 "metadata": {
  "kernelspec": {
   "display_name": "Python 3",
   "language": "python",
   "name": "python3"
  },
  "language_info": {
   "codemirror_mode": {
    "name": "ipython",
    "version": 3
   },
   "file_extension": ".py",
   "mimetype": "text/x-python",
   "name": "python",
   "nbconvert_exporter": "python",
   "pygments_lexer": "ipython3",
   "version": "3.8.8"
  }
 },
 "nbformat": 4,
 "nbformat_minor": 5
}
